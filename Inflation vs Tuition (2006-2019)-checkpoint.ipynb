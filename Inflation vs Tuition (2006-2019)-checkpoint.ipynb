{
 "cells": [
  {
   "cell_type": "markdown",
   "metadata": {},
   "source": [
    "# Comparing percentage change of tuition prices and inflation in Canada from 2006-2019."
   ]
  },
  {
   "cell_type": "code",
   "execution_count": 1,
   "metadata": {},
   "outputs": [],
   "source": [
    "import pandas as pd\n",
    "import numpy as np\n",
    "from matplotlib import pyplot as plt"
   ]
  },
  {
   "cell_type": "markdown",
   "metadata": {},
   "source": [
    "### Tuition Data:  Statistics Canada.  Table  37-10-0003-01   Canadian undergraduate tuition fees by field of study\n",
    "\n",
    "### International: Statistics Canada.  Table  37-10-0005-01   International undergraduate tuition fees by field of study\n",
    "\n",
    "### Inflation Data: Statistics Canada.  Table  18-10-0256-01   Consumer Price Index (CPI) statistics, measures of core inflation and other related statistics - Bank of Canada definitions"
   ]
  },
  {
   "cell_type": "code",
   "execution_count": 10,
   "metadata": {},
   "outputs": [],
   "source": [
    "tuition = pd.read_csv('C:\\\\Users\\\\mitch\\\\Downloads\\\\tuition.csv')"
   ]
  },
  {
   "cell_type": "code",
   "execution_count": 11,
   "metadata": {},
   "outputs": [],
   "source": [
    "inflation = pd.read_csv('C:\\\\Users\\\\mitch\\\\Downloads\\\\inflation_new.csv')"
   ]
  },
  {
   "cell_type": "code",
   "execution_count": 12,
   "metadata": {},
   "outputs": [],
   "source": [
    "int_tuition = pd.read_csv('C:\\\\Users\\\\mitch\\\\Downloads\\\\internationaltuition.csv')"
   ]
  },
  {
   "cell_type": "markdown",
   "metadata": {},
   "source": [
    "### Select columns for year and tuition price (year='REF_DATE' and tuition price='VALUE)."
   ]
  },
  {
   "cell_type": "code",
   "execution_count": 13,
   "metadata": {},
   "outputs": [],
   "source": [
    "tuition = tuition[['REF_DATE', 'VALUE']]"
   ]
  },
  {
   "cell_type": "markdown",
   "metadata": {},
   "source": [
    "### Rename columns"
   ]
  },
  {
   "cell_type": "code",
   "execution_count": 14,
   "metadata": {},
   "outputs": [],
   "source": [
    "tuition.columns = ['Year', 'Tuition']"
   ]
  },
  {
   "cell_type": "markdown",
   "metadata": {},
   "source": [
    "### Select only the rows that represent total tuition values (the data set breaks it down by field of study, but the first 13 rows are the totals)."
   ]
  },
  {
   "cell_type": "code",
   "execution_count": 15,
   "metadata": {},
   "outputs": [],
   "source": [
    "tuition = tuition.loc[:13]"
   ]
  },
  {
   "cell_type": "markdown",
   "metadata": {},
   "source": [
    "### Add a percentage change column to the tuition dataset."
   ]
  },
  {
   "cell_type": "code",
   "execution_count": 16,
   "metadata": {},
   "outputs": [],
   "source": [
    "tuition['% change'] = [((x-tuition['Tuition'].loc[0])/tuition['Tuition'].loc[0])*100 for x in tuition['Tuition']]"
   ]
  },
  {
   "cell_type": "code",
   "execution_count": 17,
   "metadata": {},
   "outputs": [
    {
     "data": {
      "text/html": [
       "<div>\n",
       "<style scoped>\n",
       "    .dataframe tbody tr th:only-of-type {\n",
       "        vertical-align: middle;\n",
       "    }\n",
       "\n",
       "    .dataframe tbody tr th {\n",
       "        vertical-align: top;\n",
       "    }\n",
       "\n",
       "    .dataframe thead th {\n",
       "        text-align: right;\n",
       "    }\n",
       "</style>\n",
       "<table border=\"1\" class=\"dataframe\">\n",
       "  <thead>\n",
       "    <tr style=\"text-align: right;\">\n",
       "      <th></th>\n",
       "      <th>Year</th>\n",
       "      <th>Tuition</th>\n",
       "      <th>% change</th>\n",
       "    </tr>\n",
       "  </thead>\n",
       "  <tbody>\n",
       "    <tr>\n",
       "      <th>0</th>\n",
       "      <td>2006/2007</td>\n",
       "      <td>4400.0</td>\n",
       "      <td>0.000000</td>\n",
       "    </tr>\n",
       "    <tr>\n",
       "      <th>1</th>\n",
       "      <td>2007/2008</td>\n",
       "      <td>4558.0</td>\n",
       "      <td>3.590909</td>\n",
       "    </tr>\n",
       "    <tr>\n",
       "      <th>2</th>\n",
       "      <td>2008/2009</td>\n",
       "      <td>4747.0</td>\n",
       "      <td>7.886364</td>\n",
       "    </tr>\n",
       "    <tr>\n",
       "      <th>3</th>\n",
       "      <td>2009/2010</td>\n",
       "      <td>4942.0</td>\n",
       "      <td>12.318182</td>\n",
       "    </tr>\n",
       "    <tr>\n",
       "      <th>4</th>\n",
       "      <td>2010/2011</td>\n",
       "      <td>5146.0</td>\n",
       "      <td>16.954545</td>\n",
       "    </tr>\n",
       "  </tbody>\n",
       "</table>\n",
       "</div>"
      ],
      "text/plain": [
       "        Year  Tuition   % change\n",
       "0  2006/2007   4400.0   0.000000\n",
       "1  2007/2008   4558.0   3.590909\n",
       "2  2008/2009   4747.0   7.886364\n",
       "3  2009/2010   4942.0  12.318182\n",
       "4  2010/2011   5146.0  16.954545"
      ]
     },
     "execution_count": 17,
     "metadata": {},
     "output_type": "execute_result"
    }
   ],
   "source": [
    "tuition.head()"
   ]
  },
  {
   "cell_type": "code",
   "execution_count": 18,
   "metadata": {},
   "outputs": [
    {
     "data": {
      "text/html": [
       "<div>\n",
       "<style scoped>\n",
       "    .dataframe tbody tr th:only-of-type {\n",
       "        vertical-align: middle;\n",
       "    }\n",
       "\n",
       "    .dataframe tbody tr th {\n",
       "        vertical-align: top;\n",
       "    }\n",
       "\n",
       "    .dataframe thead th {\n",
       "        text-align: right;\n",
       "    }\n",
       "</style>\n",
       "<table border=\"1\" class=\"dataframe\">\n",
       "  <thead>\n",
       "    <tr style=\"text-align: right;\">\n",
       "      <th></th>\n",
       "      <th>REF_DATE</th>\n",
       "      <th>GEO</th>\n",
       "      <th>DGUID</th>\n",
       "      <th>Alternative measures</th>\n",
       "      <th>UOM</th>\n",
       "      <th>UOM_ID</th>\n",
       "      <th>SCALAR_FACTOR</th>\n",
       "      <th>SCALAR_ID</th>\n",
       "      <th>VECTOR</th>\n",
       "      <th>COORDINATE</th>\n",
       "      <th>VALUE</th>\n",
       "      <th>STATUS</th>\n",
       "      <th>SYMBOL</th>\n",
       "      <th>TERMINATED</th>\n",
       "      <th>DECIMALS</th>\n",
       "    </tr>\n",
       "  </thead>\n",
       "  <tbody>\n",
       "    <tr>\n",
       "      <th>0</th>\n",
       "      <td>2006-01</td>\n",
       "      <td>Canada</td>\n",
       "      <td>2016A000011124</td>\n",
       "      <td>Consumer Price Index (CPI), all-items excludin...</td>\n",
       "      <td>2002=100</td>\n",
       "      <td>17</td>\n",
       "      <td>units</td>\n",
       "      <td>0</td>\n",
       "      <td>v112593702</td>\n",
       "      <td>1.4</td>\n",
       "      <td>106.2</td>\n",
       "      <td>NaN</td>\n",
       "      <td>NaN</td>\n",
       "      <td>NaN</td>\n",
       "      <td>1</td>\n",
       "    </tr>\n",
       "    <tr>\n",
       "      <th>1</th>\n",
       "      <td>2006-02</td>\n",
       "      <td>Canada</td>\n",
       "      <td>2016A000011124</td>\n",
       "      <td>Consumer Price Index (CPI), all-items excludin...</td>\n",
       "      <td>2002=100</td>\n",
       "      <td>17</td>\n",
       "      <td>units</td>\n",
       "      <td>0</td>\n",
       "      <td>v112593702</td>\n",
       "      <td>1.4</td>\n",
       "      <td>106.6</td>\n",
       "      <td>NaN</td>\n",
       "      <td>NaN</td>\n",
       "      <td>NaN</td>\n",
       "      <td>1</td>\n",
       "    </tr>\n",
       "    <tr>\n",
       "      <th>2</th>\n",
       "      <td>2006-03</td>\n",
       "      <td>Canada</td>\n",
       "      <td>2016A000011124</td>\n",
       "      <td>Consumer Price Index (CPI), all-items excludin...</td>\n",
       "      <td>2002=100</td>\n",
       "      <td>17</td>\n",
       "      <td>units</td>\n",
       "      <td>0</td>\n",
       "      <td>v112593702</td>\n",
       "      <td>1.4</td>\n",
       "      <td>107.0</td>\n",
       "      <td>NaN</td>\n",
       "      <td>NaN</td>\n",
       "      <td>NaN</td>\n",
       "      <td>1</td>\n",
       "    </tr>\n",
       "    <tr>\n",
       "      <th>3</th>\n",
       "      <td>2006-04</td>\n",
       "      <td>Canada</td>\n",
       "      <td>2016A000011124</td>\n",
       "      <td>Consumer Price Index (CPI), all-items excludin...</td>\n",
       "      <td>2002=100</td>\n",
       "      <td>17</td>\n",
       "      <td>units</td>\n",
       "      <td>0</td>\n",
       "      <td>v112593702</td>\n",
       "      <td>1.4</td>\n",
       "      <td>106.9</td>\n",
       "      <td>NaN</td>\n",
       "      <td>NaN</td>\n",
       "      <td>NaN</td>\n",
       "      <td>1</td>\n",
       "    </tr>\n",
       "    <tr>\n",
       "      <th>4</th>\n",
       "      <td>2006-05</td>\n",
       "      <td>Canada</td>\n",
       "      <td>2016A000011124</td>\n",
       "      <td>Consumer Price Index (CPI), all-items excludin...</td>\n",
       "      <td>2002=100</td>\n",
       "      <td>17</td>\n",
       "      <td>units</td>\n",
       "      <td>0</td>\n",
       "      <td>v112593702</td>\n",
       "      <td>1.4</td>\n",
       "      <td>107.5</td>\n",
       "      <td>NaN</td>\n",
       "      <td>NaN</td>\n",
       "      <td>NaN</td>\n",
       "      <td>1</td>\n",
       "    </tr>\n",
       "  </tbody>\n",
       "</table>\n",
       "</div>"
      ],
      "text/plain": [
       "  REF_DATE     GEO           DGUID  \\\n",
       "0  2006-01  Canada  2016A000011124   \n",
       "1  2006-02  Canada  2016A000011124   \n",
       "2  2006-03  Canada  2016A000011124   \n",
       "3  2006-04  Canada  2016A000011124   \n",
       "4  2006-05  Canada  2016A000011124   \n",
       "\n",
       "                                Alternative measures       UOM  UOM_ID  \\\n",
       "0  Consumer Price Index (CPI), all-items excludin...  2002=100      17   \n",
       "1  Consumer Price Index (CPI), all-items excludin...  2002=100      17   \n",
       "2  Consumer Price Index (CPI), all-items excludin...  2002=100      17   \n",
       "3  Consumer Price Index (CPI), all-items excludin...  2002=100      17   \n",
       "4  Consumer Price Index (CPI), all-items excludin...  2002=100      17   \n",
       "\n",
       "  SCALAR_FACTOR  SCALAR_ID      VECTOR  COORDINATE  VALUE  STATUS  SYMBOL  \\\n",
       "0         units          0  v112593702         1.4  106.2     NaN     NaN   \n",
       "1         units          0  v112593702         1.4  106.6     NaN     NaN   \n",
       "2         units          0  v112593702         1.4  107.0     NaN     NaN   \n",
       "3         units          0  v112593702         1.4  106.9     NaN     NaN   \n",
       "4         units          0  v112593702         1.4  107.5     NaN     NaN   \n",
       "\n",
       "   TERMINATED  DECIMALS  \n",
       "0         NaN         1  \n",
       "1         NaN         1  \n",
       "2         NaN         1  \n",
       "3         NaN         1  \n",
       "4         NaN         1  "
      ]
     },
     "execution_count": 18,
     "metadata": {},
     "output_type": "execute_result"
    }
   ],
   "source": [
    "inflation.head()"
   ]
  },
  {
   "cell_type": "markdown",
   "metadata": {},
   "source": [
    "### Perform same column selections on cpi dataset"
   ]
  },
  {
   "cell_type": "code",
   "execution_count": 19,
   "metadata": {},
   "outputs": [],
   "source": [
    "inflation = inflation[['REF_DATE', 'VALUE']]"
   ]
  },
  {
   "cell_type": "code",
   "execution_count": 20,
   "metadata": {},
   "outputs": [],
   "source": [
    "inflation.columns = ['Year', 'CPI']"
   ]
  },
  {
   "cell_type": "code",
   "execution_count": 21,
   "metadata": {},
   "outputs": [
    {
     "data": {
      "text/html": [
       "<div>\n",
       "<style scoped>\n",
       "    .dataframe tbody tr th:only-of-type {\n",
       "        vertical-align: middle;\n",
       "    }\n",
       "\n",
       "    .dataframe tbody tr th {\n",
       "        vertical-align: top;\n",
       "    }\n",
       "\n",
       "    .dataframe thead th {\n",
       "        text-align: right;\n",
       "    }\n",
       "</style>\n",
       "<table border=\"1\" class=\"dataframe\">\n",
       "  <thead>\n",
       "    <tr style=\"text-align: right;\">\n",
       "      <th></th>\n",
       "      <th>Year</th>\n",
       "      <th>CPI</th>\n",
       "    </tr>\n",
       "  </thead>\n",
       "  <tbody>\n",
       "    <tr>\n",
       "      <th>0</th>\n",
       "      <td>2006-01</td>\n",
       "      <td>106.2</td>\n",
       "    </tr>\n",
       "    <tr>\n",
       "      <th>1</th>\n",
       "      <td>2006-02</td>\n",
       "      <td>106.6</td>\n",
       "    </tr>\n",
       "    <tr>\n",
       "      <th>2</th>\n",
       "      <td>2006-03</td>\n",
       "      <td>107.0</td>\n",
       "    </tr>\n",
       "    <tr>\n",
       "      <th>3</th>\n",
       "      <td>2006-04</td>\n",
       "      <td>106.9</td>\n",
       "    </tr>\n",
       "    <tr>\n",
       "      <th>4</th>\n",
       "      <td>2006-05</td>\n",
       "      <td>107.5</td>\n",
       "    </tr>\n",
       "    <tr>\n",
       "      <th>5</th>\n",
       "      <td>2006-06</td>\n",
       "      <td>107.2</td>\n",
       "    </tr>\n",
       "    <tr>\n",
       "      <th>6</th>\n",
       "      <td>2006-07</td>\n",
       "      <td>107.5</td>\n",
       "    </tr>\n",
       "    <tr>\n",
       "      <th>7</th>\n",
       "      <td>2006-08</td>\n",
       "      <td>107.7</td>\n",
       "    </tr>\n",
       "    <tr>\n",
       "      <th>8</th>\n",
       "      <td>2006-09</td>\n",
       "      <td>108.3</td>\n",
       "    </tr>\n",
       "    <tr>\n",
       "      <th>9</th>\n",
       "      <td>2006-10</td>\n",
       "      <td>108.4</td>\n",
       "    </tr>\n",
       "    <tr>\n",
       "      <th>10</th>\n",
       "      <td>2006-11</td>\n",
       "      <td>108.6</td>\n",
       "    </tr>\n",
       "    <tr>\n",
       "      <th>11</th>\n",
       "      <td>2006-12</td>\n",
       "      <td>108.4</td>\n",
       "    </tr>\n",
       "    <tr>\n",
       "      <th>12</th>\n",
       "      <td>2007-01</td>\n",
       "      <td>108.6</td>\n",
       "    </tr>\n",
       "    <tr>\n",
       "      <th>13</th>\n",
       "      <td>2007-02</td>\n",
       "      <td>109.1</td>\n",
       "    </tr>\n",
       "    <tr>\n",
       "      <th>14</th>\n",
       "      <td>2007-03</td>\n",
       "      <td>109.5</td>\n",
       "    </tr>\n",
       "    <tr>\n",
       "      <th>15</th>\n",
       "      <td>2007-04</td>\n",
       "      <td>109.6</td>\n",
       "    </tr>\n",
       "    <tr>\n",
       "      <th>16</th>\n",
       "      <td>2007-05</td>\n",
       "      <td>109.9</td>\n",
       "    </tr>\n",
       "    <tr>\n",
       "      <th>17</th>\n",
       "      <td>2007-06</td>\n",
       "      <td>109.9</td>\n",
       "    </tr>\n",
       "    <tr>\n",
       "      <th>18</th>\n",
       "      <td>2007-07</td>\n",
       "      <td>110.0</td>\n",
       "    </tr>\n",
       "    <tr>\n",
       "      <th>19</th>\n",
       "      <td>2007-08</td>\n",
       "      <td>110.1</td>\n",
       "    </tr>\n",
       "  </tbody>\n",
       "</table>\n",
       "</div>"
      ],
      "text/plain": [
       "       Year    CPI\n",
       "0   2006-01  106.2\n",
       "1   2006-02  106.6\n",
       "2   2006-03  107.0\n",
       "3   2006-04  106.9\n",
       "4   2006-05  107.5\n",
       "5   2006-06  107.2\n",
       "6   2006-07  107.5\n",
       "7   2006-08  107.7\n",
       "8   2006-09  108.3\n",
       "9   2006-10  108.4\n",
       "10  2006-11  108.6\n",
       "11  2006-12  108.4\n",
       "12  2007-01  108.6\n",
       "13  2007-02  109.1\n",
       "14  2007-03  109.5\n",
       "15  2007-04  109.6\n",
       "16  2007-05  109.9\n",
       "17  2007-06  109.9\n",
       "18  2007-07  110.0\n",
       "19  2007-08  110.1"
      ]
     },
     "execution_count": 21,
     "metadata": {},
     "output_type": "execute_result"
    }
   ],
   "source": [
    "inflation.head(20)"
   ]
  },
  {
   "cell_type": "markdown",
   "metadata": {},
   "source": [
    "### Since the cpi dataset is broken down by month, take yearly average."
   ]
  },
  {
   "cell_type": "code",
   "execution_count": 22,
   "metadata": {},
   "outputs": [
    {
     "data": {
      "text/plain": [
       "163    134.4\n",
       "164    134.4\n",
       "165    134.9\n",
       "166    134.6\n",
       "167    134.0\n",
       "Name: CPI, dtype: float64"
      ]
     },
     "execution_count": 22,
     "metadata": {},
     "output_type": "execute_result"
    }
   ],
   "source": [
    "cpi = inflation['CPI']\n",
    "cpi.tail()"
   ]
  },
  {
   "cell_type": "code",
   "execution_count": 23,
   "metadata": {},
   "outputs": [],
   "source": [
    "x06 = cpi.loc[:11].mean()\n",
    "x07 = cpi.loc[12:23].mean()\n",
    "x08 = cpi.loc[24:35].mean()\n",
    "x09 = cpi.loc[36:47].mean()\n",
    "x10 = cpi.loc[48:59].mean()\n",
    "x11 = cpi.loc[60:71].mean()\n",
    "x12 = cpi.loc[72:83].mean()\n",
    "x13 = cpi.loc[84:95].mean()\n",
    "x14 = cpi.loc[96:107].mean()\n",
    "x15 = cpi.loc[108:119].mean()\n",
    "x16 = cpi.loc[120:131].mean()\n",
    "x17 = cpi.loc[132:143].mean()\n",
    "x18 = cpi.loc[144:155].mean()\n",
    "x19 = cpi.loc[156:167].mean()"
   ]
  },
  {
   "cell_type": "code",
   "execution_count": 24,
   "metadata": {},
   "outputs": [],
   "source": [
    "annualcpi = [x06, x07, x08, x09, x10, x11, x12, x13, x14, x15, x16, x17, x18, x19]\n",
    "years = ['2006', '2007', '2008', '2009', '2010', '2011', '2012', '2013', '2014', '2015', '2016', '2017', '2018', '2019']"
   ]
  },
  {
   "cell_type": "markdown",
   "metadata": {},
   "source": [
    "### Create a dataframe using the average annual cpi"
   ]
  },
  {
   "cell_type": "code",
   "execution_count": 25,
   "metadata": {},
   "outputs": [],
   "source": [
    "anninflation = pd.DataFrame(years)\n",
    "anninflation.columns = ['Year']\n",
    "anninflation['Inflation'] = annualcpi"
   ]
  },
  {
   "cell_type": "code",
   "execution_count": 26,
   "metadata": {},
   "outputs": [
    {
     "data": {
      "text/html": [
       "<div>\n",
       "<style scoped>\n",
       "    .dataframe tbody tr th:only-of-type {\n",
       "        vertical-align: middle;\n",
       "    }\n",
       "\n",
       "    .dataframe tbody tr th {\n",
       "        vertical-align: top;\n",
       "    }\n",
       "\n",
       "    .dataframe thead th {\n",
       "        text-align: right;\n",
       "    }\n",
       "</style>\n",
       "<table border=\"1\" class=\"dataframe\">\n",
       "  <thead>\n",
       "    <tr style=\"text-align: right;\">\n",
       "      <th></th>\n",
       "      <th>Year</th>\n",
       "      <th>Inflation</th>\n",
       "      <th>% change</th>\n",
       "    </tr>\n",
       "  </thead>\n",
       "  <tbody>\n",
       "    <tr>\n",
       "      <th>0</th>\n",
       "      <td>2006</td>\n",
       "      <td>107.525000</td>\n",
       "      <td>0.000000</td>\n",
       "    </tr>\n",
       "    <tr>\n",
       "      <th>1</th>\n",
       "      <td>2007</td>\n",
       "      <td>109.816667</td>\n",
       "      <td>2.131287</td>\n",
       "    </tr>\n",
       "    <tr>\n",
       "      <th>2</th>\n",
       "      <td>2008</td>\n",
       "      <td>111.658333</td>\n",
       "      <td>3.844067</td>\n",
       "    </tr>\n",
       "    <tr>\n",
       "      <th>3</th>\n",
       "      <td>2009</td>\n",
       "      <td>113.625000</td>\n",
       "      <td>5.673099</td>\n",
       "    </tr>\n",
       "    <tr>\n",
       "      <th>4</th>\n",
       "      <td>2010</td>\n",
       "      <td>115.558333</td>\n",
       "      <td>7.471131</td>\n",
       "    </tr>\n",
       "  </tbody>\n",
       "</table>\n",
       "</div>"
      ],
      "text/plain": [
       "   Year   Inflation  % change\n",
       "0  2006  107.525000  0.000000\n",
       "1  2007  109.816667  2.131287\n",
       "2  2008  111.658333  3.844067\n",
       "3  2009  113.625000  5.673099\n",
       "4  2010  115.558333  7.471131"
      ]
     },
     "execution_count": 26,
     "metadata": {},
     "output_type": "execute_result"
    }
   ],
   "source": [
    "anninflation['% change'] = [((x - anninflation['Inflation'].loc[0])/anninflation['Inflation'].loc[0])*100 for x in anninflation['Inflation']]\n",
    "anninflation.head()"
   ]
  },
  {
   "cell_type": "markdown",
   "metadata": {},
   "source": [
    "### Create a plot with both the tuition and cpi % changes"
   ]
  },
  {
   "cell_type": "code",
   "execution_count": 27,
   "metadata": {},
   "outputs": [
    {
     "data": {
      "image/png": "[encoded data removed]",
      "text/plain": [
       "<Figure size 432x288 with 1 Axes>"
      ]
     },
     "metadata": {
      "needs_background": "light"
     },
     "output_type": "display_data"
    }
   ],
   "source": [
    "ax = plt.subplot()\n",
    "plt.plot(years, tuition['% change'])\n",
    "plt.plot(years, anninflation['% change'])\n",
    "ax.set_xticks(years)\n",
    "ax.set_xticklabels(years, rotation=45)\n",
    "plt.title('Undergraduate Tuition in Canada 2006-2019')\n",
    "plt.xlabel('Year')\n",
    "plt.ylabel('Percentage Change')\n",
    "plt.legend(['Tuition', 'Inflation'])\n",
    "plt.savefig('C:\\\\Users\\\\mitch\\\\Documents\\\\Figures\\\\inflation_tuition.jpg')"
   ]
  },
  {
   "cell_type": "markdown",
   "metadata": {},
   "source": [
    "### Create the same plot as above using international student tuition instead of domestic."
   ]
  },
  {
   "cell_type": "code",
   "execution_count": 28,
   "metadata": {},
   "outputs": [],
   "source": [
    "int_tuition = int_tuition[['REF_DATE', 'VALUE']]"
   ]
  },
  {
   "cell_type": "code",
   "execution_count": 29,
   "metadata": {},
   "outputs": [],
   "source": [
    "int_tuition.columns = ['Year', 'Tuition']"
   ]
  },
  {
   "cell_type": "code",
   "execution_count": 30,
   "metadata": {},
   "outputs": [],
   "source": [
    "int_tuition['% change'] = [((x-int_tuition['Tuition'].loc[0])/int_tuition['Tuition'].loc[0])*100 for x in int_tuition['Tuition']]"
   ]
  },
  {
   "cell_type": "code",
   "execution_count": 31,
   "metadata": {},
   "outputs": [
    {
     "data": {
      "text/html": [
       "<div>\n",
       "<style scoped>\n",
       "    .dataframe tbody tr th:only-of-type {\n",
       "        vertical-align: middle;\n",
       "    }\n",
       "\n",
       "    .dataframe tbody tr th {\n",
       "        vertical-align: top;\n",
       "    }\n",
       "\n",
       "    .dataframe thead th {\n",
       "        text-align: right;\n",
       "    }\n",
       "</style>\n",
       "<table border=\"1\" class=\"dataframe\">\n",
       "  <thead>\n",
       "    <tr style=\"text-align: right;\">\n",
       "      <th></th>\n",
       "      <th>Year</th>\n",
       "      <th>Tuition</th>\n",
       "      <th>% change</th>\n",
       "    </tr>\n",
       "  </thead>\n",
       "  <tbody>\n",
       "    <tr>\n",
       "      <th>0</th>\n",
       "      <td>2006/2007</td>\n",
       "      <td>13378</td>\n",
       "      <td>0.000000</td>\n",
       "    </tr>\n",
       "    <tr>\n",
       "      <th>1</th>\n",
       "      <td>2007/2008</td>\n",
       "      <td>13947</td>\n",
       "      <td>4.253252</td>\n",
       "    </tr>\n",
       "    <tr>\n",
       "      <th>2</th>\n",
       "      <td>2008/2009</td>\n",
       "      <td>14630</td>\n",
       "      <td>9.358649</td>\n",
       "    </tr>\n",
       "    <tr>\n",
       "      <th>3</th>\n",
       "      <td>2009/2010</td>\n",
       "      <td>15943</td>\n",
       "      <td>19.173270</td>\n",
       "    </tr>\n",
       "    <tr>\n",
       "      <th>4</th>\n",
       "      <td>2010/2011</td>\n",
       "      <td>16843</td>\n",
       "      <td>25.900733</td>\n",
       "    </tr>\n",
       "  </tbody>\n",
       "</table>\n",
       "</div>"
      ],
      "text/plain": [
       "        Year  Tuition   % change\n",
       "0  2006/2007    13378   0.000000\n",
       "1  2007/2008    13947   4.253252\n",
       "2  2008/2009    14630   9.358649\n",
       "3  2009/2010    15943  19.173270\n",
       "4  2010/2011    16843  25.900733"
      ]
     },
     "execution_count": 31,
     "metadata": {},
     "output_type": "execute_result"
    }
   ],
   "source": [
    "int_tuition.head()"
   ]
  },
  {
   "cell_type": "code",
   "execution_count": 32,
   "metadata": {},
   "outputs": [
    {
     "data": {
      "image/png": "[encoded data removed]",
      "text/plain": [
       "<Figure size 432x288 with 1 Axes>"
      ]
     },
     "metadata": {
      "needs_background": "light"
     },
     "output_type": "display_data"
    }
   ],
   "source": [
    "ax2 = plt.subplot()\n",
    "plt.plot(years, int_tuition['% change'])\n",
    "plt.plot(years, anninflation['% change'])\n",
    "ax2.set_xticks(years)\n",
    "ax2.set_xticklabels(years, rotation=45)\n",
    "plt.title('International Undergrad Tuition in Canada 2006-2019')\n",
    "plt.xlabel('Year')\n",
    "plt.ylabel('Percentage Change')\n",
    "plt.legend(['International Tuition', 'Inflation'])\n",
    "plt.savefig('C:\\\\Users\\\\mitch\\\\Documents\\\\Figures\\\\international_tuition.jpg')"
   ]
  },
  {
   "cell_type": "code",
   "execution_count": 36,
   "metadata": {},
   "outputs": [
    {
     "data": {
      "text/html": [
       "<div>\n",
       "<style scoped>\n",
       "    .dataframe tbody tr th:only-of-type {\n",
       "        vertical-align: middle;\n",
       "    }\n",
       "\n",
       "    .dataframe tbody tr th {\n",
       "        vertical-align: top;\n",
       "    }\n",
       "\n",
       "    .dataframe thead th {\n",
       "        text-align: right;\n",
       "    }\n",
       "</style>\n",
       "<table border=\"1\" class=\"dataframe\">\n",
       "  <thead>\n",
       "    <tr style=\"text-align: right;\">\n",
       "      <th></th>\n",
       "      <th>Year</th>\n",
       "      <th>Inflation</th>\n",
       "      <th>% change</th>\n",
       "    </tr>\n",
       "  </thead>\n",
       "  <tbody>\n",
       "    <tr>\n",
       "      <th>9</th>\n",
       "      <td>2015</td>\n",
       "      <td>125.850000</td>\n",
       "      <td>17.042548</td>\n",
       "    </tr>\n",
       "    <tr>\n",
       "      <th>10</th>\n",
       "      <td>2016</td>\n",
       "      <td>128.233333</td>\n",
       "      <td>19.259087</td>\n",
       "    </tr>\n",
       "    <tr>\n",
       "      <th>11</th>\n",
       "      <td>2017</td>\n",
       "      <td>129.666667</td>\n",
       "      <td>20.592110</td>\n",
       "    </tr>\n",
       "    <tr>\n",
       "      <th>12</th>\n",
       "      <td>2018</td>\n",
       "      <td>131.583333</td>\n",
       "      <td>22.374642</td>\n",
       "    </tr>\n",
       "    <tr>\n",
       "      <th>13</th>\n",
       "      <td>2019</td>\n",
       "      <td>133.941667</td>\n",
       "      <td>24.567930</td>\n",
       "    </tr>\n",
       "  </tbody>\n",
       "</table>\n",
       "</div>"
      ],
      "text/plain": [
       "    Year   Inflation   % change\n",
       "9   2015  125.850000  17.042548\n",
       "10  2016  128.233333  19.259087\n",
       "11  2017  129.666667  20.592110\n",
       "12  2018  131.583333  22.374642\n",
       "13  2019  133.941667  24.567930"
      ]
     },
     "execution_count": 36,
     "metadata": {},
     "output_type": "execute_result"
    }
   ],
   "source": [
    "anninflation.tail()"
   ]
  },
  {
   "cell_type": "code",
   "execution_count": 33,
   "metadata": {},
   "outputs": [
    {
     "data": {
      "image/png": "[encoded data removed]",
      "text/plain": [
       "<Figure size 432x288 with 1 Axes>"
      ]
     },
     "metadata": {
      "needs_background": "light"
     },
     "output_type": "display_data"
    }
   ],
   "source": [
    "ax = plt.subplot()\n",
    "plt.plot(years, tuition['Adjusted 2006 tuition'])\n",
    "# plt.plot(years, anninflation['% change'])\n",
    "ax.set_xticks(years)\n",
    "ax.set_xticklabels(years, rotation=45)\n",
    "plt.title('Undergraduate Tuition in Canada 2006-2019')\n",
    "plt.xlabel('Year')\n",
    "plt.ylabel('Tuition (in 2006 $)')\n",
    "# plt.legend(['Tuition', 'Inflation'])\n",
    "plt.savefig('C:\\\\Users\\\\mitch\\\\Documents\\\\Figures\\\\adjusted_tuition.jpg')"
   ]
  },
  {
   "cell_type": "code",
   "execution_count": null,
   "metadata": {},
   "outputs": [],
   "source": []
  }
 ],
 "metadata": {
  "kernelspec": {
   "display_name": "Python 3",
   "language": "python",
   "name": "python3"
  },
  "language_info": {
   "codemirror_mode": {
    "name": "ipython",
    "version": 3
   },
   "file_extension": ".py",
   "mimetype": "text/x-python",
   "name": "python",
   "nbconvert_exporter": "python",
   "pygments_lexer": "ipython3",
   "version": "3.7.6"
  }
 },
 "nbformat": 4,
 "nbformat_minor": 4
}
